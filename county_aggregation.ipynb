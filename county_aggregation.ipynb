{
 "cells": [
  {
   "cell_type": "code",
   "execution_count": 1,
   "id": "7b508e0f",
   "metadata": {},
   "outputs": [],
   "source": [
    "import numpy as np\n",
    "import pandas as pd\n",
    "import requests\n",
    "import urllib"
   ]
  },
  {
   "cell_type": "code",
   "execution_count": 2,
   "id": "a7db26a5",
   "metadata": {},
   "outputs": [
    {
     "data": {
      "text/plain": [
       "Index(['Date_Time', 'Shape', 'Duration', 'Summary', 'Posted', 'Detail_Link',\n",
       "       'Detail_Summary', 'Detail_Summary_nltk', 'Country', 'City', 'State',\n",
       "       'Location', 'Lat', 'Lon', 'timezone_str', 'Time_UTC', 'sentiment_Vader',\n",
       "       'sentiment_nltk', 'sentiment_TextBlob', 'objectivity_TextBlob',\n",
       "       'rel0_2007', 'rel1_2007', 'rel2_2007', 'rel3_2007', 'rel4_2007',\n",
       "       'rel5_2007', 'par0_2007', 'par1_2007', 'par2_2007', 'par3_2007',\n",
       "       'rel0_2014', 'rel1_2014', 'rel2_2014', 'rel3_2014', 'rel4_2014',\n",
       "       'rel5_2014', 'par0_2014', 'par1_2014', 'par2_2014', 'par3_2014',\n",
       "       'State_num', 'time_num', 'FIPS', 'County'],\n",
       "      dtype='object')"
      ]
     },
     "execution_count": 2,
     "metadata": {},
     "output_type": "execute_result"
    }
   ],
   "source": [
    "sightings_df = pd.read_pickle(\"sightings_merged.pkl\")\n",
    "sightings_df.columns"
   ]
  },
  {
   "cell_type": "code",
   "execution_count": 3,
   "id": "d948fd90",
   "metadata": {},
   "outputs": [
    {
     "data": {
      "text/plain": [
       "11193"
      ]
     },
     "execution_count": 3,
     "metadata": {},
     "output_type": "execute_result"
    }
   ],
   "source": [
    "start_date = '01/01/2015'\n",
    "end_date = '12/31/2017'\n",
    "len(sightings_df[(sightings_df[\"Time_UTC\"]>start_date)&(sightings_df[\"Time_UTC\"]<end_date)])"
   ]
  },
  {
   "cell_type": "code",
   "execution_count": 4,
   "id": "cdb1640d",
   "metadata": {},
   "outputs": [],
   "source": [
    "agg_data = sightings_df[(sightings_df[\"Time_UTC\"]>start_date)&(sightings_df[\"Time_UTC\"]<end_date)].value_counts(\"FIPS\")\n",
    "sightings = agg_data.values\n",
    "graph_fips = agg_data.index\n",
    "data_df = pd.DataFrame({\"fips\": graph_fips, \"sightings\": sightings})\n",
    "data_df[\"fips\"] = data_df.fips.astype(str)"
   ]
  },
  {
   "cell_type": "code",
   "execution_count": 5,
   "id": "a0fae259",
   "metadata": {},
   "outputs": [
    {
     "data": {
      "text/html": [
       "<div>\n",
       "<style scoped>\n",
       "    .dataframe tbody tr th:only-of-type {\n",
       "        vertical-align: middle;\n",
       "    }\n",
       "\n",
       "    .dataframe tbody tr th {\n",
       "        vertical-align: top;\n",
       "    }\n",
       "\n",
       "    .dataframe thead th {\n",
       "        text-align: right;\n",
       "    }\n",
       "</style>\n",
       "<table border=\"1\" class=\"dataframe\">\n",
       "  <thead>\n",
       "    <tr style=\"text-align: right;\">\n",
       "      <th></th>\n",
       "      <th>name</th>\n",
       "      <th>population</th>\n",
       "      <th>state</th>\n",
       "      <th>county</th>\n",
       "      <th>fips</th>\n",
       "    </tr>\n",
       "  </thead>\n",
       "  <tbody>\n",
       "    <tr>\n",
       "      <th>1</th>\n",
       "      <td>Hidalgo County, New Mexico</td>\n",
       "      <td>4198</td>\n",
       "      <td>35</td>\n",
       "      <td>023</td>\n",
       "      <td>35023</td>\n",
       "    </tr>\n",
       "    <tr>\n",
       "      <th>2</th>\n",
       "      <td>Hudson County, New Jersey</td>\n",
       "      <td>672391</td>\n",
       "      <td>34</td>\n",
       "      <td>017</td>\n",
       "      <td>34017</td>\n",
       "    </tr>\n",
       "    <tr>\n",
       "      <th>3</th>\n",
       "      <td>Hunterdon County, New Jersey</td>\n",
       "      <td>124371</td>\n",
       "      <td>34</td>\n",
       "      <td>019</td>\n",
       "      <td>34019</td>\n",
       "    </tr>\n",
       "    <tr>\n",
       "      <th>4</th>\n",
       "      <td>Morris County, New Jersey</td>\n",
       "      <td>491845</td>\n",
       "      <td>34</td>\n",
       "      <td>027</td>\n",
       "      <td>34027</td>\n",
       "    </tr>\n",
       "    <tr>\n",
       "      <th>5</th>\n",
       "      <td>Grant County, New Mexico</td>\n",
       "      <td>26998</td>\n",
       "      <td>35</td>\n",
       "      <td>017</td>\n",
       "      <td>35017</td>\n",
       "    </tr>\n",
       "  </tbody>\n",
       "</table>\n",
       "</div>"
      ],
      "text/plain": [
       "                           name population state county   fips\n",
       "1    Hidalgo County, New Mexico       4198    35    023  35023\n",
       "2     Hudson County, New Jersey     672391    34    017  34017\n",
       "3  Hunterdon County, New Jersey     124371    34    019  34019\n",
       "4     Morris County, New Jersey     491845    34    027  34027\n",
       "5      Grant County, New Mexico      26998    35    017  35017"
      ]
     },
     "execution_count": 5,
     "metadata": {},
     "output_type": "execute_result"
    }
   ],
   "source": [
    "import json\n",
    "\n",
    "# population by county from:\n",
    "# https://www.census.gov/data/developers/data-sets/popest-popproj/popest.html\n",
    "# https://api.census.gov/data/2019/pep/population?get=NAME,POP&for=county:*\n",
    "f = open(\"resources/county_population.json\",)\n",
    "\n",
    "data = pd.DataFrame(json.load(f))\n",
    "data.columns = [\"name\", \"population\", \"state\", \"county\"]\n",
    "county_population_data = data.iloc[1: , :].copy()\n",
    "county_population_data[\"fips\"] = county_population_data.state + county_population_data.county\n",
    "county_population_data.head(5)"
   ]
  },
  {
   "cell_type": "code",
   "execution_count": 6,
   "id": "9b12ae75",
   "metadata": {},
   "outputs": [],
   "source": [
    "def get_population(fips):\n",
    "    fips = str(fips).zfill(5)\n",
    "    p = county_population_data[county_population_data.fips==fips].population\n",
    "    if len(p) != 1:\n",
    "        print(f\"{fips} not found\")\n",
    "        return None\n",
    "    \n",
    "    return p.values[0]\n",
    "\n",
    "data_df[\"population\"] = data_df[\"fips\"].apply(get_population)\n",
    "data_df.dropna(axis=0, how=\"any\", inplace=True)\n",
    "data_df[\"population\"] = data_df[\"population\"].astype(str).astype(int)\n",
    "data_df[\"per_cap\"] = (data_df[\"sightings\"]/data_df[\"population\"])*1000"
   ]
  },
  {
   "cell_type": "code",
   "execution_count": 7,
   "id": "070f7b23",
   "metadata": {},
   "outputs": [],
   "source": [
    "no_sightings = county_population_data[county_population_data.fips.isin(data_df.fips)==False].copy()\n",
    "no_sightings.drop([\"name\", \"state\", \"county\"], axis=1, inplace=True)\n",
    "no_sightings[\"per_cap\"] = 0\n",
    "no_sightings[\"sightings\"] = 0"
   ]
  },
  {
   "cell_type": "code",
   "execution_count": 8,
   "id": "f1cf7ab3",
   "metadata": {},
   "outputs": [
    {
     "name": "stdout",
     "output_type": "stream",
     "text": [
      "1518, 1702\n",
      "3220\n"
     ]
    }
   ],
   "source": [
    "print(f\"{len(no_sightings)}, {len(data_df)}\")\n",
    "data_df = data_df.append(no_sightings, ignore_index=True)\n",
    "print(f\"{len(data_df)}\")"
   ]
  },
  {
   "cell_type": "code",
   "execution_count": 9,
   "id": "d7b621ec",
   "metadata": {},
   "outputs": [],
   "source": [
    "import math\n",
    "\n",
    "def calc_log(c):\n",
    "    try:\n",
    "        if c > 0:\n",
    "            return math.log(c)\n",
    "    except:\n",
    "        print(c)\n",
    "    return None\n",
    "\n",
    "data_df[\"per_cap_adj\"] = data_df[\"per_cap\"].apply(calc_log)"
   ]
  },
  {
   "cell_type": "code",
   "execution_count": 10,
   "id": "4f1bf0b5",
   "metadata": {},
   "outputs": [
    {
     "data": {
      "text/plain": [
       "(1.5933517746824761, -7.84772464613074)"
      ]
     },
     "execution_count": 10,
     "metadata": {},
     "output_type": "execute_result"
    }
   ],
   "source": [
    "math.log(data_df[data_df.per_cap!=0].per_cap.max()), math.log(data_df[data_df.per_cap!=0].per_cap.min())"
   ]
  },
  {
   "cell_type": "code",
   "execution_count": 11,
   "id": "4cade8fb",
   "metadata": {},
   "outputs": [
    {
     "data": {
      "text/plain": [
       "(0.00039063980158623193, 2.4752475247524752)"
      ]
     },
     "execution_count": 11,
     "metadata": {},
     "output_type": "execute_result"
    }
   ],
   "source": [
    "min_val = data_df[data_df.per_cap>0].per_cap.min()\n",
    "max_val = data_df[data_df.fips!='48283'].per_cap.max()\n",
    "min_val, max_val"
   ]
  },
  {
   "cell_type": "code",
   "execution_count": 12,
   "id": "cecc8ee2",
   "metadata": {},
   "outputs": [],
   "source": [
    "offset = .000001\n",
    "\"\"\"\n",
    "Counties with no sightings do not show up in this aggregated data. They\n",
    "were added to the dataset but with a per capita value of 0. However, to\n",
    "smooth the per capita per 1000 people values for the map, the log of the\n",
    "value was used. The log of 0 is problematic, so a value just below the\n",
    "lowest adjusted value in the dataset is used.\n",
    "\"\"\"\n",
    "data_df.loc[data_df.per_cap==0, ['per_cap_adj']] = math.log(min_val-offset)\n",
    "\n",
    "\"\"\"\n",
    "Adjusting La Salle County in Texas. Its original per capita per 1000 people\n",
    "value is just over 21, which is nearly four times the next closest value\n",
    "of 5.8. The purpose is not to diminish this value as \"false\" or any such\n",
    "implication. The purpose of the adjustment is so it does not wash out the\n",
    "other \"high\" sighting counties.\n",
    "\n",
    "https://www.bestplaces.net/people/county/texas/la_salle\n",
    "\"\"\"\n",
    "adjust_la_salle = True\n",
    "if adjust_la_salle:\n",
    "    data_df.loc[data_df.fips=='48283', ['per_cap']] = max_val+offset\n",
    "    data_df.loc[data_df.fips=='48283', ['per_cap_adj']] = math.log(max_val+offset)"
   ]
  },
  {
   "cell_type": "code",
   "execution_count": 13,
   "id": "73c2dfc3",
   "metadata": {},
   "outputs": [
    {
     "data": {
      "text/plain": [
       "-7.850287831284953"
      ]
     },
     "execution_count": 13,
     "metadata": {},
     "output_type": "execute_result"
    }
   ],
   "source": [
    "math.log(min_val-offset)"
   ]
  },
  {
   "cell_type": "code",
   "execution_count": 14,
   "id": "dd95599a",
   "metadata": {},
   "outputs": [],
   "source": [
    "min_adj_val = math.log(min_val-offset)\n",
    "data_df['per_cap_adj'] = data_df['per_cap_adj'] + abs(min_adj_val)"
   ]
  },
  {
   "cell_type": "code",
   "execution_count": 15,
   "id": "231c1d00",
   "metadata": {},
   "outputs": [
    {
     "data": {
      "text/html": [
       "<div>\n",
       "<style scoped>\n",
       "    .dataframe tbody tr th:only-of-type {\n",
       "        vertical-align: middle;\n",
       "    }\n",
       "\n",
       "    .dataframe tbody tr th {\n",
       "        vertical-align: top;\n",
       "    }\n",
       "\n",
       "    .dataframe thead th {\n",
       "        text-align: right;\n",
       "    }\n",
       "</style>\n",
       "<table border=\"1\" class=\"dataframe\">\n",
       "  <thead>\n",
       "    <tr style=\"text-align: right;\">\n",
       "      <th></th>\n",
       "      <th>fips</th>\n",
       "      <th>sightings</th>\n",
       "      <th>population</th>\n",
       "      <th>per_cap</th>\n",
       "      <th>per_cap_adj</th>\n",
       "    </tr>\n",
       "  </thead>\n",
       "  <tbody>\n",
       "    <tr>\n",
       "      <th>48</th>\n",
       "      <td>48283</td>\n",
       "      <td>37</td>\n",
       "      <td>7520</td>\n",
       "      <td>2.475249</td>\n",
       "      <td>8.756629</td>\n",
       "    </tr>\n",
       "    <tr>\n",
       "      <th>1502</th>\n",
       "      <td>48261</td>\n",
       "      <td>1</td>\n",
       "      <td>404</td>\n",
       "      <td>2.475248</td>\n",
       "      <td>8.756628</td>\n",
       "    </tr>\n",
       "    <tr>\n",
       "      <th>1032</th>\n",
       "      <td>32009</td>\n",
       "      <td>2</td>\n",
       "      <td>873</td>\n",
       "      <td>2.290951</td>\n",
       "      <td>8.679255</td>\n",
       "    </tr>\n",
       "    <tr>\n",
       "      <th>67</th>\n",
       "      <td>28147</td>\n",
       "      <td>30</td>\n",
       "      <td>14286</td>\n",
       "      <td>2.099958</td>\n",
       "      <td>8.592205</td>\n",
       "    </tr>\n",
       "    <tr>\n",
       "      <th>586</th>\n",
       "      <td>49033</td>\n",
       "      <td>4</td>\n",
       "      <td>2483</td>\n",
       "      <td>1.610954</td>\n",
       "      <td>8.327115</td>\n",
       "    </tr>\n",
       "  </tbody>\n",
       "</table>\n",
       "</div>"
      ],
      "text/plain": [
       "       fips  sightings population   per_cap  per_cap_adj\n",
       "48    48283         37       7520  2.475249     8.756629\n",
       "1502  48261          1        404  2.475248     8.756628\n",
       "1032  32009          2        873  2.290951     8.679255\n",
       "67    28147         30      14286  2.099958     8.592205\n",
       "586   49033          4       2483  1.610954     8.327115"
      ]
     },
     "execution_count": 15,
     "metadata": {},
     "output_type": "execute_result"
    }
   ],
   "source": [
    "data_df.sort_values(\"per_cap\", ascending=False).head(5)"
   ]
  },
  {
   "cell_type": "code",
   "execution_count": 16,
   "id": "8e189364",
   "metadata": {},
   "outputs": [
    {
     "data": {
      "text/html": [
       "<div>\n",
       "<style scoped>\n",
       "    .dataframe tbody tr th:only-of-type {\n",
       "        vertical-align: middle;\n",
       "    }\n",
       "\n",
       "    .dataframe tbody tr th {\n",
       "        vertical-align: top;\n",
       "    }\n",
       "\n",
       "    .dataframe thead th {\n",
       "        text-align: right;\n",
       "    }\n",
       "</style>\n",
       "<table border=\"1\" class=\"dataframe\">\n",
       "  <thead>\n",
       "    <tr style=\"text-align: right;\">\n",
       "      <th></th>\n",
       "      <th>fips</th>\n",
       "      <th>sightings</th>\n",
       "      <th>population</th>\n",
       "      <th>per_cap</th>\n",
       "      <th>per_cap_adj</th>\n",
       "    </tr>\n",
       "  </thead>\n",
       "  <tbody>\n",
       "    <tr>\n",
       "      <th>48</th>\n",
       "      <td>48283</td>\n",
       "      <td>37</td>\n",
       "      <td>7520</td>\n",
       "      <td>2.475249</td>\n",
       "      <td>8.756629</td>\n",
       "    </tr>\n",
       "    <tr>\n",
       "      <th>1502</th>\n",
       "      <td>48261</td>\n",
       "      <td>1</td>\n",
       "      <td>404</td>\n",
       "      <td>2.475248</td>\n",
       "      <td>8.756628</td>\n",
       "    </tr>\n",
       "    <tr>\n",
       "      <th>1032</th>\n",
       "      <td>32009</td>\n",
       "      <td>2</td>\n",
       "      <td>873</td>\n",
       "      <td>2.290951</td>\n",
       "      <td>8.679255</td>\n",
       "    </tr>\n",
       "    <tr>\n",
       "      <th>67</th>\n",
       "      <td>28147</td>\n",
       "      <td>30</td>\n",
       "      <td>14286</td>\n",
       "      <td>2.099958</td>\n",
       "      <td>8.592205</td>\n",
       "    </tr>\n",
       "    <tr>\n",
       "      <th>586</th>\n",
       "      <td>49033</td>\n",
       "      <td>4</td>\n",
       "      <td>2483</td>\n",
       "      <td>1.610954</td>\n",
       "      <td>8.327115</td>\n",
       "    </tr>\n",
       "  </tbody>\n",
       "</table>\n",
       "</div>"
      ],
      "text/plain": [
       "       fips  sightings population   per_cap  per_cap_adj\n",
       "48    48283         37       7520  2.475249     8.756629\n",
       "1502  48261          1        404  2.475248     8.756628\n",
       "1032  32009          2        873  2.290951     8.679255\n",
       "67    28147         30      14286  2.099958     8.592205\n",
       "586   49033          4       2483  1.610954     8.327115"
      ]
     },
     "execution_count": 16,
     "metadata": {},
     "output_type": "execute_result"
    }
   ],
   "source": [
    "data_df.sort_values(\"per_cap_adj\", ascending=False).head(5)"
   ]
  },
  {
   "cell_type": "code",
   "execution_count": 17,
   "id": "1423f44c",
   "metadata": {},
   "outputs": [
    {
     "data": {
      "text/html": [
       "<div>\n",
       "<style scoped>\n",
       "    .dataframe tbody tr th:only-of-type {\n",
       "        vertical-align: middle;\n",
       "    }\n",
       "\n",
       "    .dataframe tbody tr th {\n",
       "        vertical-align: top;\n",
       "    }\n",
       "\n",
       "    .dataframe thead th {\n",
       "        text-align: right;\n",
       "    }\n",
       "</style>\n",
       "<table border=\"1\" class=\"dataframe\">\n",
       "  <thead>\n",
       "    <tr style=\"text-align: right;\">\n",
       "      <th></th>\n",
       "      <th>fips</th>\n",
       "      <th>sightings</th>\n",
       "      <th>population</th>\n",
       "      <th>per_cap</th>\n",
       "      <th>per_cap_adj</th>\n",
       "    </tr>\n",
       "  </thead>\n",
       "  <tbody>\n",
       "    <tr>\n",
       "      <th>0</th>\n",
       "      <td>04013</td>\n",
       "      <td>244</td>\n",
       "      <td>4485414</td>\n",
       "      <td>0.054399</td>\n",
       "      <td>4.938870</td>\n",
       "    </tr>\n",
       "    <tr>\n",
       "      <th>1</th>\n",
       "      <td>06037</td>\n",
       "      <td>157</td>\n",
       "      <td>10039107</td>\n",
       "      <td>0.015639</td>\n",
       "      <td>3.692290</td>\n",
       "    </tr>\n",
       "    <tr>\n",
       "      <th>2</th>\n",
       "      <td>06073</td>\n",
       "      <td>121</td>\n",
       "      <td>3338330</td>\n",
       "      <td>0.036246</td>\n",
       "      <td>4.532852</td>\n",
       "    </tr>\n",
       "    <tr>\n",
       "      <th>3</th>\n",
       "      <td>53033</td>\n",
       "      <td>93</td>\n",
       "      <td>2252782</td>\n",
       "      <td>0.041282</td>\n",
       "      <td>4.662966</td>\n",
       "    </tr>\n",
       "    <tr>\n",
       "      <th>4</th>\n",
       "      <td>06059</td>\n",
       "      <td>93</td>\n",
       "      <td>3175692</td>\n",
       "      <td>0.029285</td>\n",
       "      <td>4.319606</td>\n",
       "    </tr>\n",
       "  </tbody>\n",
       "</table>\n",
       "</div>"
      ],
      "text/plain": [
       "    fips  sightings population   per_cap  per_cap_adj\n",
       "0  04013        244    4485414  0.054399     4.938870\n",
       "1  06037        157   10039107  0.015639     3.692290\n",
       "2  06073        121    3338330  0.036246     4.532852\n",
       "3  53033         93    2252782  0.041282     4.662966\n",
       "4  06059         93    3175692  0.029285     4.319606"
      ]
     },
     "execution_count": 17,
     "metadata": {},
     "output_type": "execute_result"
    }
   ],
   "source": [
    "data_df.sort_values(\"sightings\", ascending=False).head(5)"
   ]
  },
  {
   "cell_type": "code",
   "execution_count": 18,
   "id": "07185b85",
   "metadata": {},
   "outputs": [],
   "source": [
    "data_df.to_pickle(\"county_sightings.pkl\")"
   ]
  },
  {
   "cell_type": "code",
   "execution_count": 43,
   "id": "56845e7b",
   "metadata": {},
   "outputs": [],
   "source": [
    "agg_data = sightings_df.value_counts(\"State\")\n",
    "sightings = agg_data.values\n",
    "graph_fips = agg_data.index\n",
    "state_sightings = pd.DataFrame({\"State\": graph_fips, \"sightings\": sightings})\n",
    "\n",
    "state_features = ['rel0_2007', 'rel1_2007', 'rel2_2007', 'rel3_2007', 'rel4_2007',\n",
    "       'rel5_2007', 'par0_2007', 'par1_2007', 'par2_2007', 'par3_2007',\n",
    "       'rel0_2014', 'rel1_2014', 'rel2_2014', 'rel3_2014', 'rel4_2014',\n",
    "       'rel5_2014', 'par0_2014', 'par1_2014', 'par2_2014', 'par3_2014']\n",
    "for state in state_sightings.State.unique():\n",
    "    state_sightings.loc[state_sightings.State==state, state_features] = sightings_df.loc[sightings_df.State==state, state_features].head(1).values"
   ]
  },
  {
   "cell_type": "code",
   "execution_count": 45,
   "id": "06867edb",
   "metadata": {},
   "outputs": [],
   "source": [
    "state_sightings.to_pickle(\"state_sightings.pkl\")"
   ]
  }
 ],
 "metadata": {
  "kernelspec": {
   "display_name": "Python 3",
   "language": "python",
   "name": "python3"
  },
  "language_info": {
   "codemirror_mode": {
    "name": "ipython",
    "version": 3
   },
   "file_extension": ".py",
   "mimetype": "text/x-python",
   "name": "python",
   "nbconvert_exporter": "python",
   "pygments_lexer": "ipython3",
   "version": "3.6.10"
  }
 },
 "nbformat": 4,
 "nbformat_minor": 5
}
