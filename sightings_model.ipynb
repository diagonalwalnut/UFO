{
 "cells": [
  {
   "cell_type": "markdown",
   "id": "5762a175",
   "metadata": {},
   "source": [
    "Hypos\n",
    "- predicting state of a sighting\n",
    "- Does religion affect sightings?\n",
    "\n",
    "Which is more accurate?\n",
    "sentiment_nltk\n",
    "sentiment_textBlob\n",
    "sentiment_Stanford\n",
    "sentiment_VADAR\n",
    "\n",
    "objectivity_nltk\n",
    "objectivity_textBlob\n",
    "objectivity_Stanford\n",
    "objectivity_VADAR\n",
    "\n",
    "Add to sightings...\n",
    "sightings per capita (county)\n",
    "______________________________________________________\n",
    "\n",
    "input - sighting (impute religion and party state data)\n",
    "output - state of sighting\n",
    "\n",
    "PCA feature selection\n",
    "\n",
    "Model Selection\n",
    "- KNN\n",
    "- SVM\n",
    "- Naive Bayes\n",
    "\n",
    "Tuning\n",
    "\n",
    "Evaluate Model"
   ]
  },
  {
   "cell_type": "code",
   "execution_count": 1,
   "id": "0c7fce36",
   "metadata": {},
   "outputs": [],
   "source": [
    "import numpy as np\n",
    "import pandas as pd\n",
    "import matplotlib.pyplot as plt\n",
    "import seaborn as sns\n",
    "from datetime import datetime"
   ]
  },
  {
   "cell_type": "code",
   "execution_count": 2,
   "id": "d00a8699",
   "metadata": {},
   "outputs": [],
   "source": [
    "sightings_w_counties = pd.read_pickle(\"sightings_with_counties.pkl\")\n",
    "sightings_w_features = pd.read_pickle('sightings_add_features.pkl')"
   ]
  },
  {
   "cell_type": "code",
   "execution_count": 3,
   "id": "6f8b45fb",
   "metadata": {},
   "outputs": [
    {
     "data": {
      "text/plain": [
       "Index(['Date_Time', 'Shape', 'Duration', 'Summary', 'Posted', 'Detail_Link',\n",
       "       'Detail_Summary', 'Detail_Summary_nltk', 'Notes', 'Country', 'City',\n",
       "       'State', 'Location', 'Lat', 'Lon', 'timezone_str', 'Time_UTC',\n",
       "       'sentiment_Vader', 'sentiment_nltk', 'sentiment_TextBlob',\n",
       "       'objectivity_TextBlob'],\n",
       "      dtype='object')"
      ]
     },
     "execution_count": 3,
     "metadata": {},
     "output_type": "execute_result"
    }
   ],
   "source": [
    "sightings_w_features.columns"
   ]
  },
  {
   "cell_type": "code",
   "execution_count": 4,
   "id": "ef0728f0",
   "metadata": {},
   "outputs": [],
   "source": [
    "state_abr = {\"Hawaii\":\"HI\", \"Alaska\":\"AK\", \"Washington\":\"WA\", \"Oregon\":\"OR\", \"California\":\"CA\",\n",
    "                        \"Arizona\":\"AZ\", \"Utah\":\"UT\", \"Idaho\":\"ID\", \"Montana\":\"MT\", \"Wyoming\":\"WY\", \"Colorado\":\"CO\",\n",
    "                        \"New Mexico\":\"NM\", \"Texas\":\"TX\", \"Oklahoma\":\"OK\", \"Kansas\":\"KS\", \"Nebraska\":\"NE\", \n",
    "                        \"South Dakota\":\"SD\", \"North Dakota\":\"ND\", \"Minnesota\":\"MN\", \"Iowa\":\"IA\", \"Missouri\":\"MO\",\n",
    "                        \"Arkansas\":\"AR\", \"Louisiana\":\"LA\", \"Wisconsin\":\"WI\", \"Illinois\":\"IL\", \"Mississippi\":\"MS\",\n",
    "                        \"Alabama\":\"AL\", \"Georgia\":\"GA\", \"Florida\":\"FL\", \"Tennessee\":\"TN\", \"Kentucky\":\"KY\", \"Indiana\":\"IN\",\n",
    "                        \"Michigan\":\"MI\", \"South Carolina\":\"SC\", \"North Carolina\":\"NC\", \"Virginia\":\"VA\",\n",
    "                        \"West Virginia\":\"WV\", \"Ohio\":\"OH\", \"Pennsylvania\":\"PA\", \"Maryland\":\"MD\", \"Delaware\":\"DE\",\n",
    "                        \"New Jersey\":\"NJ\", \"New York\":\"NY\", \"Connecticut\":\"CT\", \"Rhode Island\":\"RI\", \n",
    "                        \"Massachusetts\":\"MA\", \"Vermont\":\"VT\", \"New Hampshire\":\"NH\", \"Maine\":\"ME\",\n",
    "                        \"District of Columbia\":\"DC\", \"Nevada\":\"NV\", \"Puerto Rico\":\"PR\"}"
   ]
  },
  {
   "cell_type": "code",
   "execution_count": 5,
   "id": "94430143",
   "metadata": {},
   "outputs": [
    {
     "data": {
      "text/plain": [
       "Date_Time                   0\n",
       "Shape                       0\n",
       "Duration                    0\n",
       "Summary                     0\n",
       "Posted                      0\n",
       "Detail_Link                 0\n",
       "Detail_Summary              0\n",
       "Detail_Summary_nltk         0\n",
       "Country                     0\n",
       "City                        0\n",
       "State                       0\n",
       "Location                    0\n",
       "Lat                         0\n",
       "Lon                         0\n",
       "timezone_str                0\n",
       "Time_UTC                    0\n",
       "sentiment_Vader             0\n",
       "sentiment_nltk              0\n",
       "sentiment_TextBlob          0\n",
       "objectivity_TextBlob        0\n",
       "rel0_2007                   0\n",
       "rel1_2007                   0\n",
       "rel2_2007                   0\n",
       "rel3_2007                   0\n",
       "rel4_2007                 181\n",
       "rel5_2007                4887\n",
       "par0_2007                   0\n",
       "par1_2007                   0\n",
       "par2_2007                   0\n",
       "par3_2007                   0\n",
       "rel0_2014                   0\n",
       "rel1_2014                   0\n",
       "rel2_2014                   0\n",
       "rel3_2014                   0\n",
       "rel4_2014                1544\n",
       "rel5_2014               12342\n",
       "par0_2014                   0\n",
       "par1_2014                   0\n",
       "par2_2014                   0\n",
       "par3_2014                   0\n",
       "dtype: int64"
      ]
     },
     "execution_count": 5,
     "metadata": {},
     "output_type": "execute_result"
    }
   ],
   "source": [
    "features = pd.read_pickle(\"featuresCapstone.pkl\")\n",
    "\n",
    "feature_columns = ['rel0_2007', 'rel1_2007', 'rel2_2007', 'rel3_2007', 'rel4_2007', 'rel5_2007', 'par0_2007', 'par1_2007', 'par2_2007', 'par3_2007', 'rel0_2014', 'rel1_2014', 'rel2_2014', 'rel3_2014', 'rel4_2014', 'rel5_2014', 'par0_2014', 'par1_2014', 'par2_2014', 'par3_2014',]\n",
    "states = features.state.unique()\n",
    "\n",
    "for state in states:\n",
    "    state_abbr = state_abr[state]\n",
    "    for c in feature_columns:\n",
    "        # test = features.loc[features.state == state, c].unique()[0]\n",
    "        sightings_w_features.loc[(sightings_w_features.State == state_abbr), c] = features.loc[features.state == state, c].unique()[0]\n",
    "\n",
    "validation_cols = feature_columns.copy()\n",
    "validation_cols.append(\"State\")\n",
    "\n",
    "states_to_remove = sightings_w_features.loc[sightings_w_features.rel0_2007.isnull()==True, validation_cols].State.unique()\n",
    "sightings_w_features = sightings_w_features[sightings_w_features.State.isin(states_to_remove)==False]\n",
    "\n",
    "try:\n",
    "    sightings_w_features.drop([\"Notes\"], axis=1, inplace=True)\n",
    "except:\n",
    "    print(\"Column(s) already gone.\")\n",
    "sightings_w_features.isnull().sum()"
   ]
  },
  {
   "cell_type": "code",
   "execution_count": 6,
   "id": "05989975",
   "metadata": {},
   "outputs": [],
   "source": [
    "for c in feature_columns:\n",
    "    sightings_w_features.loc[sightings_w_features[c].isnull(), c] = 0"
   ]
  },
  {
   "cell_type": "code",
   "execution_count": 7,
   "id": "b8a83268",
   "metadata": {},
   "outputs": [
    {
     "data": {
      "text/plain": [
       "Date_Time               0\n",
       "Shape                   0\n",
       "Duration                0\n",
       "Summary                 0\n",
       "Posted                  0\n",
       "Detail_Link             0\n",
       "Detail_Summary          0\n",
       "Detail_Summary_nltk     0\n",
       "Country                 0\n",
       "City                    0\n",
       "State                   0\n",
       "Location                0\n",
       "Lat                     0\n",
       "Lon                     0\n",
       "timezone_str            0\n",
       "Time_UTC                0\n",
       "sentiment_Vader         0\n",
       "sentiment_nltk          0\n",
       "sentiment_TextBlob      0\n",
       "objectivity_TextBlob    0\n",
       "rel0_2007               0\n",
       "rel1_2007               0\n",
       "rel2_2007               0\n",
       "rel3_2007               0\n",
       "rel4_2007               0\n",
       "rel5_2007               0\n",
       "par0_2007               0\n",
       "par1_2007               0\n",
       "par2_2007               0\n",
       "par3_2007               0\n",
       "rel0_2014               0\n",
       "rel1_2014               0\n",
       "rel2_2014               0\n",
       "rel3_2014               0\n",
       "rel4_2014               0\n",
       "rel5_2014               0\n",
       "par0_2014               0\n",
       "par1_2014               0\n",
       "par2_2014               0\n",
       "par3_2014               0\n",
       "dtype: int64"
      ]
     },
     "execution_count": 7,
     "metadata": {},
     "output_type": "execute_result"
    }
   ],
   "source": [
    "sightings_w_features.isnull().sum()"
   ]
  },
  {
   "cell_type": "code",
   "execution_count": 8,
   "id": "034cdfea",
   "metadata": {
    "scrolled": true
   },
   "outputs": [
    {
     "data": {
      "text/html": [
       "<div>\n",
       "<style scoped>\n",
       "    .dataframe tbody tr th:only-of-type {\n",
       "        vertical-align: middle;\n",
       "    }\n",
       "\n",
       "    .dataframe tbody tr th {\n",
       "        vertical-align: top;\n",
       "    }\n",
       "\n",
       "    .dataframe thead th {\n",
       "        text-align: right;\n",
       "    }\n",
       "</style>\n",
       "<table border=\"1\" class=\"dataframe\">\n",
       "  <thead>\n",
       "    <tr style=\"text-align: right;\">\n",
       "      <th></th>\n",
       "      <th>Date_Time</th>\n",
       "      <th>Shape</th>\n",
       "      <th>Duration</th>\n",
       "      <th>Summary</th>\n",
       "      <th>Posted</th>\n",
       "      <th>Detail_Link</th>\n",
       "      <th>Detail_Summary</th>\n",
       "      <th>Detail_Summary_nltk</th>\n",
       "      <th>Country</th>\n",
       "      <th>City</th>\n",
       "      <th>...</th>\n",
       "      <th>rel0_2014</th>\n",
       "      <th>rel1_2014</th>\n",
       "      <th>rel2_2014</th>\n",
       "      <th>rel3_2014</th>\n",
       "      <th>rel4_2014</th>\n",
       "      <th>rel5_2014</th>\n",
       "      <th>par0_2014</th>\n",
       "      <th>par1_2014</th>\n",
       "      <th>par2_2014</th>\n",
       "      <th>par3_2014</th>\n",
       "    </tr>\n",
       "  </thead>\n",
       "  <tbody>\n",
       "  </tbody>\n",
       "</table>\n",
       "<p>0 rows × 40 columns</p>\n",
       "</div>"
      ],
      "text/plain": [
       "Empty DataFrame\n",
       "Columns: [Date_Time, Shape, Duration, Summary, Posted, Detail_Link, Detail_Summary, Detail_Summary_nltk, Country, City, State, Location, Lat, Lon, timezone_str, Time_UTC, sentiment_Vader, sentiment_nltk, sentiment_TextBlob, objectivity_TextBlob, rel0_2007, rel1_2007, rel2_2007, rel3_2007, rel4_2007, rel5_2007, par0_2007, par1_2007, par2_2007, par3_2007, rel0_2014, rel1_2014, rel2_2014, rel3_2014, rel4_2014, rel5_2014, par0_2014, par1_2014, par2_2014, par3_2014]\n",
       "Index: []\n",
       "\n",
       "[0 rows x 40 columns]"
      ]
     },
     "execution_count": 8,
     "metadata": {},
     "output_type": "execute_result"
    }
   ],
   "source": [
    "sightings_w_features[sightings_w_features.sentiment_nltk.isnull()|sightings_w_features.sentiment_TextBlob.isnull()|sightings_w_features.objectivity_TextBlob.isnull()]"
   ]
  },
  {
   "cell_type": "code",
   "execution_count": 9,
   "id": "d8428222",
   "metadata": {},
   "outputs": [
    {
     "data": {
      "text/plain": [
       "60969"
      ]
     },
     "execution_count": 9,
     "metadata": {},
     "output_type": "execute_result"
    }
   ],
   "source": [
    "len(sightings_w_features)"
   ]
  },
  {
   "cell_type": "code",
   "execution_count": 10,
   "id": "e29d289a",
   "metadata": {},
   "outputs": [],
   "source": [
    "from sklearn.preprocessing import LabelEncoder\n",
    "\n",
    "def encode_state(s):\n",
    "    return le.transform([s])\n",
    "    \n",
    "le = LabelEncoder()\n",
    "\n",
    "sightings_states = pd.DataFrame()\n",
    "sightings_states[\"State\"] = sightings_w_features.State.unique()\n",
    "le.fit(sightings_states[\"State\"])\n",
    "\n",
    "sightings_w_features[\"State_num\"] = le.transform(sightings_w_features[\"State\"])"
   ]
  },
  {
   "cell_type": "code",
   "execution_count": 11,
   "id": "b49ed075",
   "metadata": {},
   "outputs": [],
   "source": [
    "from sklearn.preprocessing import StandardScaler\n",
    "from sklearn.pipeline import Pipeline\n",
    "\n",
    "sightings_w_features[\"time_num\"] = sightings_w_features[\"Time_UTC\"].astype(int)\n",
    "\n",
    "trans_cols = [\"time_num\"]\n",
    "\n",
    "numeric_transformer = Pipeline(steps=[(\"scaler\", StandardScaler())])\n",
    "sightings_w_features[trans_cols] = numeric_transformer.fit_transform(sightings_w_features[trans_cols])"
   ]
  },
  {
   "cell_type": "code",
   "execution_count": 12,
   "id": "5adbc367",
   "metadata": {},
   "outputs": [
    {
     "data": {
      "text/plain": [
       "(61069, 60969)"
      ]
     },
     "execution_count": 12,
     "metadata": {},
     "output_type": "execute_result"
    }
   ],
   "source": [
    "len(sightings_w_counties), len(sightings_w_features)"
   ]
  },
  {
   "cell_type": "code",
   "execution_count": 13,
   "id": "826e6da5",
   "metadata": {},
   "outputs": [
    {
     "data": {
      "text/plain": [
       "60412"
      ]
     },
     "execution_count": 13,
     "metadata": {},
     "output_type": "execute_result"
    }
   ],
   "source": [
    "sightings = sightings_w_features.join(sightings_w_counties[['FIPS', 'County']], how=\"inner\")\n",
    "len(sightings)"
   ]
  },
  {
   "cell_type": "code",
   "execution_count": 14,
   "id": "95e1b756",
   "metadata": {},
   "outputs": [
    {
     "data": {
      "image/png": "[encoded data removed]",
      "text/plain": [
       "<Figure size 432x288 with 2 Axes>"
      ]
     },
     "metadata": {
      "needs_background": "light"
     },
     "output_type": "display_data"
    }
   ],
   "source": [
    "corr_features = ['State_num', 'time_num', 'Lat', 'Lon', 'rel0_2007', 'rel1_2007', 'rel2_2007',\n",
    "                 'rel3_2007', 'rel4_2007', 'rel5_2007', \n",
    "                 'par0_2007', 'par1_2007', 'par2_2007', 'par3_2007', 'rel0_2014', 'rel1_2014', \n",
    "                 'rel2_2014', 'rel3_2014', 'rel4_2014', 'rel5_2014', 'par0_2014', 'par1_2014', \n",
    "                 'par2_2014', 'par3_2014']\n",
    "sns.heatmap(sightings[corr_features].corr(), cmap= 'coolwarm');"
   ]
  },
  {
   "cell_type": "code",
   "execution_count": 15,
   "id": "b39d9ac9",
   "metadata": {},
   "outputs": [
    {
     "data": {
      "text/plain": [
       "Date_Time                    datetime64[ns]\n",
       "Shape                                object\n",
       "Duration                             object\n",
       "Summary                              object\n",
       "Posted                               object\n",
       "Detail_Link                          object\n",
       "Detail_Summary                       object\n",
       "Detail_Summary_nltk                  object\n",
       "Country                              object\n",
       "City                                 object\n",
       "State                                object\n",
       "Location                             object\n",
       "Lat                                 float64\n",
       "Lon                                 float64\n",
       "timezone_str                         object\n",
       "Time_UTC                datetime64[ns, UTC]\n",
       "sentiment_Vader                     float64\n",
       "sentiment_nltk                      float64\n",
       "sentiment_TextBlob                  float64\n",
       "objectivity_TextBlob                float64\n",
       "rel0_2007                           float64\n",
       "rel1_2007                           float64\n",
       "rel2_2007                           float64\n",
       "rel3_2007                           float64\n",
       "rel4_2007                           float64\n",
       "rel5_2007                           float64\n",
       "par0_2007                           float64\n",
       "par1_2007                           float64\n",
       "par2_2007                           float64\n",
       "par3_2007                           float64\n",
       "rel0_2014                           float64\n",
       "rel1_2014                           float64\n",
       "rel2_2014                           float64\n",
       "rel3_2014                           float64\n",
       "rel4_2014                           float64\n",
       "rel5_2014                           float64\n",
       "par0_2014                           float64\n",
       "par1_2014                           float64\n",
       "par2_2014                           float64\n",
       "par3_2014                           float64\n",
       "State_num                             int64\n",
       "time_num                            float64\n",
       "FIPS                                 object\n",
       "County                               object\n",
       "dtype: object"
      ]
     },
     "execution_count": 15,
     "metadata": {},
     "output_type": "execute_result"
    }
   ],
   "source": [
    "sightings.dtypes"
   ]
  },
  {
   "cell_type": "code",
   "execution_count": 16,
   "id": "3875244c",
   "metadata": {},
   "outputs": [],
   "source": [
    "fileName = 'sightings_merged.pkl'\n",
    "sightings.to_pickle(fileName)"
   ]
  },
  {
   "cell_type": "code",
   "execution_count": null,
   "id": "5d7cbd67",
   "metadata": {},
   "outputs": [],
   "source": [
    "\"\"\"\n",
    "Start here!!!!!!!!!!!\n",
    "\"\"\"\n",
    "sightings = pd.read_pickle('sightings_merged.pkl')"
   ]
  },
  {
   "cell_type": "code",
   "execution_count": 17,
   "id": "62827530",
   "metadata": {},
   "outputs": [
    {
     "data": {
      "image/png": "[encoded data removed]",
      "text/plain": [
       "<Figure size 432x288 with 1 Axes>"
      ]
     },
     "metadata": {
      "needs_background": "light"
     },
     "output_type": "display_data"
    }
   ],
   "source": [
    "from wordcloud import WordCloud\n",
    "\n",
    "text = \" \".join(t for t in sightings.Detail_Summary_nltk.astype(str))\n",
    "wordcloud = WordCloud().generate(text)\n",
    "\n",
    "plt.imshow(wordcloud, interpolation='bilinear')\n",
    "plt.axis(\"off\")\n",
    "\n",
    "plt.show()"
   ]
  },
  {
   "cell_type": "code",
   "execution_count": 18,
   "id": "24a32d53",
   "metadata": {},
   "outputs": [
    {
     "data": {
      "text/plain": [
       "array(['Circle', 'Light', 'Cone', 'Sphere', 'Chevron', 'Fireball',\n",
       "       'Triangle', 'Unknown', 'Oval', 'Formation', 'Flash', 'Cigar',\n",
       "       'Other', 'Changing', 'Disk', 'Rectangle', 'Cylinder', '',\n",
       "       'Teardrop', 'Diamond', 'Egg', 'Cross'], dtype=object)"
      ]
     },
     "execution_count": 18,
     "metadata": {},
     "output_type": "execute_result"
    }
   ],
   "source": [
    "sightings.Shape.unique()"
   ]
  },
  {
   "cell_type": "code",
   "execution_count": 19,
   "id": "080f9e4b",
   "metadata": {},
   "outputs": [
    {
     "data": {
      "image/png": "[encoded data removed]",
      "text/plain": [
       "<Figure size 432x288 with 1 Axes>"
      ]
     },
     "metadata": {
      "needs_background": "light"
     },
     "output_type": "display_data"
    }
   ],
   "source": [
    "text = \" \".join(t for t in sightings.Shape.astype(str))\n",
    "wordcloud = WordCloud().generate(text)\n",
    "\n",
    "plt.imshow(wordcloud, interpolation='bilinear')\n",
    "plt.axis(\"off\")\n",
    "\n",
    "plt.show()"
   ]
  },
  {
   "cell_type": "code",
   "execution_count": 20,
   "id": "c0be356c",
   "metadata": {},
   "outputs": [],
   "source": [
    "import re\n",
    "import nltk\n",
    "from nltk import ngrams\n",
    "from nltk.tokenize import sent_tokenize, word_tokenize\n",
    "\n",
    "# creating the Bag of words Model\n",
    "BagOfWords = []\n",
    "for s in sightings['Detail_Summary_nltk']:\n",
    "    s = re.sub(r' . ', \" \", s)\n",
    "    s = re.sub(r'[\\(\\)\\[\\]\\^\\$\\+\\*\\.\\?\\/!@#%&{}\\'\\\",;:]', \"\", s)\n",
    "    words = nltk.word_tokenize(s)\n",
    "    BagOfWords.append(words)\n",
    "\n",
    "BagOfWords_series = pd.Series(BagOfWords)\n",
    "BagOfWords_list = ''.join(BagOfWords_series.str.join(',').tolist()).split(',')"
   ]
  },
  {
   "cell_type": "code",
   "execution_count": 21,
   "id": "7aa13247",
   "metadata": {},
   "outputs": [
    {
     "data": {
      "text/plain": [
       "[(('bright', 'white', 'light'), 2410),\n",
       " (('never', 'seen', 'anything'), 2220),\n",
       " (('seen', 'anything', 'like'), 1749),\n",
       " (('high', 'rate', 'speed'), 1305),\n",
       " (('bright', 'orange', 'light'), 969),\n",
       " (('moving', 'across', 'sky'), 954),\n",
       " (('saw', 'bright', 'light'), 707),\n",
       " (('light', 'looked', 'like'), 696),\n",
       " (('looked', 'like', 'star'), 676),\n",
       " (('get', 'better', 'look'), 658)]"
      ]
     },
     "execution_count": 21,
     "metadata": {},
     "output_type": "execute_result"
    }
   ],
   "source": [
    "from collections import Counter\n",
    "\n",
    "ngram_counts = Counter(ngrams(BagOfWords_list, 3))\n",
    "ngram_counts.most_common(10)"
   ]
  },
  {
   "cell_type": "code",
   "execution_count": 22,
   "id": "73ca129e",
   "metadata": {},
   "outputs": [
    {
     "data": {
      "text/plain": [
       "[(('never', 'seen', 'anything', 'like'), 1459),\n",
       " (('light', 'moving', 'across', 'sky'), 266),\n",
       " (('moving', 'high', 'rate', 'speed'), 186),\n",
       " (('saw', 'bright', 'white', 'light'), 173),\n",
       " (('moving', 'slowly', 'across', 'sky'), 170),\n",
       " (('like', 'nothing', 'ever', 'seen'), 161),\n",
       " (('seen', 'anything', 'like', 'life'), 149),\n",
       " (('unlike', 'anything', 'ever', 'seen'), 135),\n",
       " (('traveling', 'high', 'rate', 'speed'), 130),\n",
       " (('light', 'looked', 'like', 'star'), 119)]"
      ]
     },
     "execution_count": 22,
     "metadata": {},
     "output_type": "execute_result"
    }
   ],
   "source": [
    "ngram_counts = Counter(ngrams(BagOfWords_list, 4))\n",
    "ngram_counts.most_common(10)"
   ]
  },
  {
   "cell_type": "code",
   "execution_count": 23,
   "id": "409c9ee1",
   "metadata": {},
   "outputs": [
    {
     "data": {
      "image/png": "[encoded data removed]",
      "text/plain": [
       "<Figure size 432x288 with 1 Axes>"
      ]
     },
     "metadata": {
      "needs_background": "light"
     },
     "output_type": "display_data"
    }
   ],
   "source": [
    "# sentiment_Vader, sentiment_nltk, sentiment_TextBlob, objectivity_TextBlob    \n",
    "hist = sightings['sentiment_Vader'].hist(bins=8)"
   ]
  },
  {
   "cell_type": "code",
   "execution_count": 24,
   "id": "50ab047e",
   "metadata": {},
   "outputs": [
    {
     "data": {
      "image/png": "[encoded data removed]",
      "text/plain": [
       "<Figure size 432x288 with 1 Axes>"
      ]
     },
     "metadata": {
      "needs_background": "light"
     },
     "output_type": "display_data"
    }
   ],
   "source": [
    "hist = sightings['sentiment_nltk'].hist(bins=8)"
   ]
  },
  {
   "cell_type": "code",
   "execution_count": 25,
   "id": "70acf9c3",
   "metadata": {},
   "outputs": [
    {
     "data": {
      "image/png": "[encoded data removed]",
      "text/plain": [
       "<Figure size 432x288 with 1 Axes>"
      ]
     },
     "metadata": {
      "needs_background": "light"
     },
     "output_type": "display_data"
    }
   ],
   "source": [
    "hist = sightings['sentiment_TextBlob'].hist(bins=8)"
   ]
  },
  {
   "cell_type": "code",
   "execution_count": 26,
   "id": "1c455a82",
   "metadata": {},
   "outputs": [
    {
     "data": {
      "image/png": "[encoded data removed]",
      "text/plain": [
       "<Figure size 432x288 with 1 Axes>"
      ]
     },
     "metadata": {
      "needs_background": "light"
     },
     "output_type": "display_data"
    }
   ],
   "source": [
    "hist = sightings['objectivity_TextBlob'].hist(bins=8)"
   ]
  },
  {
   "cell_type": "code",
   "execution_count": 27,
   "id": "9dbb6492",
   "metadata": {},
   "outputs": [],
   "source": [
    "X = sightings[['time_num', 'Lat', 'Lon', 'rel0_2007', 'rel1_2007', 'rel2_2007',\n",
    "               'rel3_2007', 'rel4_2007',\n",
    "               'rel5_2007', 'par0_2007', 'par1_2007', 'par2_2007', 'par3_2007',\n",
    "               'rel0_2014', 'rel1_2014', 'rel2_2014', 'rel3_2014', 'rel4_2014', \n",
    "               'rel5_2014','par0_2014', 'par1_2014', 'par2_2014', 'par3_2014']]\n",
    "\n",
    "# sentiment_Vader, sentiment_nltk, sentiment_TextBlob, objectivity_TextBlob \n",
    "y = sightings.objectivity_TextBlob"
   ]
  },
  {
   "cell_type": "code",
   "execution_count": 28,
   "id": "b9fa1f1f",
   "metadata": {},
   "outputs": [
    {
     "name": "stdout",
     "output_type": "stream",
     "text": [
      "Total variance accounted using 1 components: 91.0671%\n",
      "Total variance accounted using 2 components: 99.6383%\n",
      "Total variance accounted using 3 components: 99.9511%\n",
      "Total variance accounted using 4 components: 99.9701%\n",
      "Total variance accounted using 5 components: 99.9814%\n",
      "Total variance accounted using 6 components: 99.9864%\n",
      "Total variance accounted using 7 components: 99.9909%\n",
      "Total variance accounted using 8 components: 99.9941%\n",
      "Total variance accounted using 9 components: 99.9956%\n",
      "Total variance accounted using 10 components: 99.9968%\n",
      "Total variance accounted using 11 components: 99.9978%\n",
      "Total variance accounted using 12 components: 99.9984%\n",
      "Total variance accounted using 13 components: 99.999%\n",
      "Total variance accounted using 14 components: 99.9994%\n",
      "Total variance accounted using 15 components: 99.9996%\n",
      "Total variance accounted using 16 components: 99.9998%\n",
      "Total variance accounted using 17 components: 99.9999%\n",
      "Total variance accounted using 18 components: 100.0%\n",
      "Total variance accounted using 19 components: 100.0%\n",
      "Total variance accounted using 20 components: 100.0%\n",
      "Total variance accounted using 21 components: 100.0%\n",
      "Total variance accounted using 22 components: 100.0%\n",
      "Total variance accounted using 23 components: 100.0%\n",
      "Total variance accounted using all components: 100.0%\n"
     ]
    }
   ],
   "source": [
    "from sklearn.decomposition import PCA\n",
    "\n",
    "for n in range(1, len(X.columns)+1):\n",
    "    target_number_of_components = n\n",
    "\n",
    "    pca = PCA(n_components=target_number_of_components)\n",
    "    pca.fit(X)\n",
    "    print(f\"Total variance accounted using {n} components: {round(pca.explained_variance_ratio_.sum()*100,4)}%\")\n",
    "\n",
    "print(f\"Total variance accounted using all components: {round(PCA(n_components=None).fit(X).explained_variance_ratio_.sum(),4)*100}%\")"
   ]
  },
  {
   "cell_type": "code",
   "execution_count": 29,
   "id": "9eb03ac0",
   "metadata": {},
   "outputs": [
    {
     "data": {
      "text/html": [
       "<div>\n",
       "<style scoped>\n",
       "    .dataframe tbody tr th:only-of-type {\n",
       "        vertical-align: middle;\n",
       "    }\n",
       "\n",
       "    .dataframe tbody tr th {\n",
       "        vertical-align: top;\n",
       "    }\n",
       "\n",
       "    .dataframe thead th {\n",
       "        text-align: right;\n",
       "    }\n",
       "</style>\n",
       "<table border=\"1\" class=\"dataframe\">\n",
       "  <thead>\n",
       "    <tr style=\"text-align: right;\">\n",
       "      <th></th>\n",
       "      <th>0</th>\n",
       "      <th>1</th>\n",
       "    </tr>\n",
       "  </thead>\n",
       "  <tbody>\n",
       "    <tr>\n",
       "      <th>0</th>\n",
       "      <td>PC0</td>\n",
       "      <td>Lon</td>\n",
       "    </tr>\n",
       "    <tr>\n",
       "      <th>1</th>\n",
       "      <td>PC1</td>\n",
       "      <td>Lat</td>\n",
       "    </tr>\n",
       "    <tr>\n",
       "      <th>2</th>\n",
       "      <td>PC2</td>\n",
       "      <td>time_num</td>\n",
       "    </tr>\n",
       "    <tr>\n",
       "      <th>3</th>\n",
       "      <td>PC3</td>\n",
       "      <td>rel1_2007</td>\n",
       "    </tr>\n",
       "    <tr>\n",
       "      <th>4</th>\n",
       "      <td>PC4</td>\n",
       "      <td>rel1_2014</td>\n",
       "    </tr>\n",
       "    <tr>\n",
       "      <th>5</th>\n",
       "      <td>PC5</td>\n",
       "      <td>par2_2014</td>\n",
       "    </tr>\n",
       "    <tr>\n",
       "      <th>6</th>\n",
       "      <td>PC6</td>\n",
       "      <td>rel2_2007</td>\n",
       "    </tr>\n",
       "    <tr>\n",
       "      <th>7</th>\n",
       "      <td>PC7</td>\n",
       "      <td>rel3_2014</td>\n",
       "    </tr>\n",
       "    <tr>\n",
       "      <th>8</th>\n",
       "      <td>PC8</td>\n",
       "      <td>par3_2014</td>\n",
       "    </tr>\n",
       "    <tr>\n",
       "      <th>9</th>\n",
       "      <td>PC9</td>\n",
       "      <td>rel2_2007</td>\n",
       "    </tr>\n",
       "    <tr>\n",
       "      <th>10</th>\n",
       "      <td>PC10</td>\n",
       "      <td>par3_2007</td>\n",
       "    </tr>\n",
       "    <tr>\n",
       "      <th>11</th>\n",
       "      <td>PC11</td>\n",
       "      <td>par2_2007</td>\n",
       "    </tr>\n",
       "    <tr>\n",
       "      <th>12</th>\n",
       "      <td>PC12</td>\n",
       "      <td>par1_2007</td>\n",
       "    </tr>\n",
       "    <tr>\n",
       "      <th>13</th>\n",
       "      <td>PC13</td>\n",
       "      <td>rel0_2007</td>\n",
       "    </tr>\n",
       "    <tr>\n",
       "      <th>14</th>\n",
       "      <td>PC14</td>\n",
       "      <td>rel5_2014</td>\n",
       "    </tr>\n",
       "    <tr>\n",
       "      <th>15</th>\n",
       "      <td>PC15</td>\n",
       "      <td>rel4_2014</td>\n",
       "    </tr>\n",
       "    <tr>\n",
       "      <th>16</th>\n",
       "      <td>PC16</td>\n",
       "      <td>rel5_2007</td>\n",
       "    </tr>\n",
       "    <tr>\n",
       "      <th>17</th>\n",
       "      <td>PC17</td>\n",
       "      <td>par0_2007</td>\n",
       "    </tr>\n",
       "    <tr>\n",
       "      <th>18</th>\n",
       "      <td>PC18</td>\n",
       "      <td>par0_2014</td>\n",
       "    </tr>\n",
       "    <tr>\n",
       "      <th>19</th>\n",
       "      <td>PC19</td>\n",
       "      <td>par0_2007</td>\n",
       "    </tr>\n",
       "    <tr>\n",
       "      <th>20</th>\n",
       "      <td>PC20</td>\n",
       "      <td>rel2_2014</td>\n",
       "    </tr>\n",
       "    <tr>\n",
       "      <th>21</th>\n",
       "      <td>PC21</td>\n",
       "      <td>par0_2014</td>\n",
       "    </tr>\n",
       "    <tr>\n",
       "      <th>22</th>\n",
       "      <td>PC22</td>\n",
       "      <td>par1_2007</td>\n",
       "    </tr>\n",
       "  </tbody>\n",
       "</table>\n",
       "</div>"
      ],
      "text/plain": [
       "       0          1\n",
       "0    PC0        Lon\n",
       "1    PC1        Lat\n",
       "2    PC2   time_num\n",
       "3    PC3  rel1_2007\n",
       "4    PC4  rel1_2014\n",
       "5    PC5  par2_2014\n",
       "6    PC6  rel2_2007\n",
       "7    PC7  rel3_2014\n",
       "8    PC8  par3_2014\n",
       "9    PC9  rel2_2007\n",
       "10  PC10  par3_2007\n",
       "11  PC11  par2_2007\n",
       "12  PC12  par1_2007\n",
       "13  PC13  rel0_2007\n",
       "14  PC14  rel5_2014\n",
       "15  PC15  rel4_2014\n",
       "16  PC16  rel5_2007\n",
       "17  PC17  par0_2007\n",
       "18  PC18  par0_2014\n",
       "19  PC19  par0_2007\n",
       "20  PC20  rel2_2014\n",
       "21  PC21  par0_2014\n",
       "22  PC22  par1_2007"
      ]
     },
     "execution_count": 29,
     "metadata": {},
     "output_type": "execute_result"
    }
   ],
   "source": [
    "n_pcs = pca.components_.shape[0]\n",
    "\n",
    "most_important = [np.abs(pca.components_[i]).argmax() for i in range(n_pcs)]\n",
    "\n",
    "initial_feature_names = X.columns\n",
    "\n",
    "most_important_names = [initial_feature_names[most_important[i]] for i in range(n_pcs)]\n",
    "\n",
    "dic = {'PC{}'.format(i): most_important_names[i] for i in range(n_pcs)}\n",
    "df = pd.DataFrame(dic.items())\n",
    "df.head(len(X.columns))"
   ]
  },
  {
   "cell_type": "code",
   "execution_count": 30,
   "id": "9c61289f",
   "metadata": {},
   "outputs": [
    {
     "data": {
      "text/plain": [
       "array([0.91067146, 0.08571149])"
      ]
     },
     "execution_count": 30,
     "metadata": {},
     "output_type": "execute_result"
    }
   ],
   "source": [
    "target_number_of_components = 2\n",
    "\n",
    "pca = PCA(n_components=target_number_of_components)\n",
    "pca.fit(X)\n",
    "pca.explained_variance_ratio_"
   ]
  },
  {
   "cell_type": "code",
   "execution_count": 31,
   "id": "247e468e",
   "metadata": {},
   "outputs": [
    {
     "data": {
      "text/html": [
       "<div>\n",
       "<style scoped>\n",
       "    .dataframe tbody tr th:only-of-type {\n",
       "        vertical-align: middle;\n",
       "    }\n",
       "\n",
       "    .dataframe tbody tr th {\n",
       "        vertical-align: top;\n",
       "    }\n",
       "\n",
       "    .dataframe thead th {\n",
       "        text-align: right;\n",
       "    }\n",
       "</style>\n",
       "<table border=\"1\" class=\"dataframe\">\n",
       "  <thead>\n",
       "    <tr style=\"text-align: right;\">\n",
       "      <th></th>\n",
       "      <th>PC1</th>\n",
       "      <th>PC2</th>\n",
       "    </tr>\n",
       "  </thead>\n",
       "  <tbody>\n",
       "    <tr>\n",
       "      <th>0</th>\n",
       "      <td>11.223164</td>\n",
       "      <td>6.656041</td>\n",
       "    </tr>\n",
       "    <tr>\n",
       "      <th>1</th>\n",
       "      <td>13.335138</td>\n",
       "      <td>0.123428</td>\n",
       "    </tr>\n",
       "    <tr>\n",
       "      <th>2</th>\n",
       "      <td>13.155128</td>\n",
       "      <td>10.279742</td>\n",
       "    </tr>\n",
       "    <tr>\n",
       "      <th>3</th>\n",
       "      <td>12.181577</td>\n",
       "      <td>8.046493</td>\n",
       "    </tr>\n",
       "    <tr>\n",
       "      <th>4</th>\n",
       "      <td>14.456339</td>\n",
       "      <td>1.887547</td>\n",
       "    </tr>\n",
       "    <tr>\n",
       "      <th>...</th>\n",
       "      <td>...</td>\n",
       "      <td>...</td>\n",
       "    </tr>\n",
       "    <tr>\n",
       "      <th>60407</th>\n",
       "      <td>-4.133264</td>\n",
       "      <td>-1.920070</td>\n",
       "    </tr>\n",
       "    <tr>\n",
       "      <th>60408</th>\n",
       "      <td>21.762029</td>\n",
       "      <td>-3.949164</td>\n",
       "    </tr>\n",
       "    <tr>\n",
       "      <th>60409</th>\n",
       "      <td>5.757148</td>\n",
       "      <td>-0.588006</td>\n",
       "    </tr>\n",
       "    <tr>\n",
       "      <th>60410</th>\n",
       "      <td>14.792118</td>\n",
       "      <td>-5.188248</td>\n",
       "    </tr>\n",
       "    <tr>\n",
       "      <th>60411</th>\n",
       "      <td>14.259240</td>\n",
       "      <td>0.308838</td>\n",
       "    </tr>\n",
       "  </tbody>\n",
       "</table>\n",
       "<p>60412 rows × 2 columns</p>\n",
       "</div>"
      ],
      "text/plain": [
       "             PC1        PC2\n",
       "0      11.223164   6.656041\n",
       "1      13.335138   0.123428\n",
       "2      13.155128  10.279742\n",
       "3      12.181577   8.046493\n",
       "4      14.456339   1.887547\n",
       "...          ...        ...\n",
       "60407  -4.133264  -1.920070\n",
       "60408  21.762029  -3.949164\n",
       "60409   5.757148  -0.588006\n",
       "60410  14.792118  -5.188248\n",
       "60411  14.259240   0.308838\n",
       "\n",
       "[60412 rows x 2 columns]"
      ]
     },
     "execution_count": 31,
     "metadata": {},
     "output_type": "execute_result"
    }
   ],
   "source": [
    "pca_features = []\n",
    "for p in range(1, target_number_of_components+1):\n",
    "    pca_features.append(\"PC\" + str(p))\n",
    "pca_features\n",
    "\n",
    "pca_transformed = pca.transform(X)\n",
    "\n",
    "X_princ = pd.DataFrame(data=pca_transformed, columns = pca_features)\n",
    "X_princ"
   ]
  },
  {
   "cell_type": "code",
   "execution_count": 32,
   "id": "efd1a332",
   "metadata": {},
   "outputs": [],
   "source": [
    "%%script false --no-raise-error\n",
    "from sklearn.cluster import KMeans\n",
    "\n",
    "optimal_clusters = 5\n",
    "\n",
    "kmeans = KMeans(n_clusters=optimal_clusters, random_state=42).fit(X_princ)\n",
    "centroids = kmeans.cluster_centers_"
   ]
  },
  {
   "cell_type": "code",
   "execution_count": 33,
   "id": "c1009d3a",
   "metadata": {},
   "outputs": [],
   "source": [
    "%%script false --no-raise-error\n",
    "plt.scatter(X_princ[\"PC3\"], X_princ[\"PC2\"], c=kmeans.labels_.astype(float), s=50, alpha=0.5)\n",
    "plt.scatter(centroids[:, 0], centroids[:, 1], c='red', s=50)\n",
    "plt.title(\"Predicted Clusters\")\n",
    "plt.show()"
   ]
  },
  {
   "cell_type": "code",
   "execution_count": 34,
   "id": "60f471cb",
   "metadata": {},
   "outputs": [],
   "source": [
    "%%script false --no-raise-error\n",
    "distortions = []\n",
    "K = range(1,20)\n",
    "for k in K:\n",
    "    kmeanModel = KMeans(n_clusters=k)\n",
    "    kmeanModel.fit(X_princ)\n",
    "    distortions.append(kmeanModel.inertia_)"
   ]
  },
  {
   "cell_type": "code",
   "execution_count": 35,
   "id": "d45741b8",
   "metadata": {},
   "outputs": [],
   "source": [
    "%%script false --no-raise-error\n",
    "plt.figure(figsize=(16,8))\n",
    "plt.plot(K, distortions, 'bx-')\n",
    "plt.xlabel('k')\n",
    "plt.ylabel('Distortion')\n",
    "plt.title('The Elbow Method showing the optimal k')\n",
    "plt.show()"
   ]
  },
  {
   "cell_type": "code",
   "execution_count": 36,
   "id": "7fde6d8f",
   "metadata": {},
   "outputs": [],
   "source": [
    "from sklearn.model_selection import train_test_split\n",
    "\n",
    "# X_train, X_test, y_train, y_test = train_test_split(X, y, test_size=.2, random_state=42)\n",
    "X_train, X_test, y_train, y_test = train_test_split(X_princ, y, test_size=.2, random_state=42)"
   ]
  },
  {
   "cell_type": "code",
   "execution_count": 37,
   "id": "a6a46fa9",
   "metadata": {},
   "outputs": [
    {
     "data": {
      "text/plain": [
       "((48329, 2), (12083, 2), (48329,), (12083,))"
      ]
     },
     "execution_count": 37,
     "metadata": {},
     "output_type": "execute_result"
    }
   ],
   "source": [
    "X_train.shape, X_test.shape, y_train.shape, y_test.shape"
   ]
  },
  {
   "cell_type": "code",
   "execution_count": 38,
   "id": "2d7b6dc5",
   "metadata": {},
   "outputs": [],
   "source": [
    "from sklearn.linear_model import LinearRegression, SGDRegressor\n",
    "from sklearn.svm import SVR\n",
    "from sklearn.ensemble import RandomForestRegressor\n",
    "from sklearn.neighbors._regression import KNeighborsRegressor\n",
    "from sklearn.tree._classes import DecisionTreeRegressor\n",
    "from sklearn.metrics import mean_squared_error, r2_score\n",
    "\n",
    "results_df = pd.DataFrame(columns = [\"Model\", \"Training RMSE\", \"Training R2\", \"Test RMSE\", \"Test R2\"])\n",
    "\n",
    "reg_list = [SGDRegressor(), LinearRegression(), RandomForestRegressor(), KNeighborsRegressor(), DecisionTreeRegressor(), SVR(kernel='rbf')]\n",
    "\n",
    "for mod in reg_list:\n",
    "    reg_model = mod\n",
    "    reg_model.fit(X_train, y_train)\n",
    "\n",
    "    reg_model_pred_train = reg_model.predict(X_train)\n",
    "    reg_model_pred_test = reg_model.predict(X_test)\n",
    "    \n",
    "    mse_train = mean_squared_error(y_train, reg_model_pred_train)\n",
    "    mse_test = mean_squared_error(y_test, reg_model_pred_test)\n",
    "\n",
    "    r2_train = r2_score(y_train, reg_model_pred_train)\n",
    "    r2_test = r2_score(y_test, reg_model_pred_test)\n",
    "    \n",
    "    temp = pd.DataFrame({\"Model\": [mod],\n",
    "                         \"Training RMSE\": [mse_train], \n",
    "                         \"Training R2\": [r2_train],\n",
    "                         \"Test RMSE\": [mse_test],\n",
    "                         \"Test R2\": [r2_test]})\n",
    "    results_df = results_df.append(temp, ignore_index=True)"
   ]
  },
  {
   "cell_type": "code",
   "execution_count": 39,
   "id": "7afdba2b",
   "metadata": {},
   "outputs": [
    {
     "data": {
      "text/html": [
       "<div>\n",
       "<style scoped>\n",
       "    .dataframe tbody tr th:only-of-type {\n",
       "        vertical-align: middle;\n",
       "    }\n",
       "\n",
       "    .dataframe tbody tr th {\n",
       "        vertical-align: top;\n",
       "    }\n",
       "\n",
       "    .dataframe thead th {\n",
       "        text-align: right;\n",
       "    }\n",
       "</style>\n",
       "<table border=\"1\" class=\"dataframe\">\n",
       "  <thead>\n",
       "    <tr style=\"text-align: right;\">\n",
       "      <th></th>\n",
       "      <th>Model</th>\n",
       "      <th>Training RMSE</th>\n",
       "      <th>Training R2</th>\n",
       "      <th>Test RMSE</th>\n",
       "      <th>Test R2</th>\n",
       "    </tr>\n",
       "  </thead>\n",
       "  <tbody>\n",
       "    <tr>\n",
       "      <th>1</th>\n",
       "      <td>LinearRegression()</td>\n",
       "      <td>0.014658</td>\n",
       "      <td>0.000283</td>\n",
       "      <td>0.014877</td>\n",
       "      <td>-0.000198</td>\n",
       "    </tr>\n",
       "    <tr>\n",
       "      <th>5</th>\n",
       "      <td>SVR()</td>\n",
       "      <td>0.014651</td>\n",
       "      <td>0.000826</td>\n",
       "      <td>0.014877</td>\n",
       "      <td>-0.000235</td>\n",
       "    </tr>\n",
       "    <tr>\n",
       "      <th>0</th>\n",
       "      <td>SGDRegressor()</td>\n",
       "      <td>0.016280</td>\n",
       "      <td>-0.110298</td>\n",
       "      <td>0.016379</td>\n",
       "      <td>-0.101210</td>\n",
       "    </tr>\n",
       "    <tr>\n",
       "      <th>3</th>\n",
       "      <td>KNeighborsRegressor()</td>\n",
       "      <td>0.011640</td>\n",
       "      <td>0.206115</td>\n",
       "      <td>0.017555</td>\n",
       "      <td>-0.180292</td>\n",
       "    </tr>\n",
       "    <tr>\n",
       "      <th>2</th>\n",
       "      <td>(DecisionTreeRegressor(max_features='auto', ra...</td>\n",
       "      <td>0.003598</td>\n",
       "      <td>0.754639</td>\n",
       "      <td>0.019744</td>\n",
       "      <td>-0.327447</td>\n",
       "    </tr>\n",
       "    <tr>\n",
       "      <th>4</th>\n",
       "      <td>DecisionTreeRegressor()</td>\n",
       "      <td>0.001274</td>\n",
       "      <td>0.913099</td>\n",
       "      <td>0.027851</td>\n",
       "      <td>-0.872476</td>\n",
       "    </tr>\n",
       "  </tbody>\n",
       "</table>\n",
       "</div>"
      ],
      "text/plain": [
       "                                               Model  Training RMSE  \\\n",
       "1                                 LinearRegression()       0.014658   \n",
       "5                                              SVR()       0.014651   \n",
       "0                                     SGDRegressor()       0.016280   \n",
       "3                              KNeighborsRegressor()       0.011640   \n",
       "2  (DecisionTreeRegressor(max_features='auto', ra...       0.003598   \n",
       "4                            DecisionTreeRegressor()       0.001274   \n",
       "\n",
       "   Training R2  Test RMSE   Test R2  \n",
       "1     0.000283   0.014877 -0.000198  \n",
       "5     0.000826   0.014877 -0.000235  \n",
       "0    -0.110298   0.016379 -0.101210  \n",
       "3     0.206115   0.017555 -0.180292  \n",
       "2     0.754639   0.019744 -0.327447  \n",
       "4     0.913099   0.027851 -0.872476  "
      ]
     },
     "execution_count": 39,
     "metadata": {},
     "output_type": "execute_result"
    }
   ],
   "source": [
    "results_df.sort_values(by=\"Test RMSE\")"
   ]
  }
 ],
 "metadata": {
  "kernelspec": {
   "display_name": "Python 3",
   "language": "python",
   "name": "python3"
  },
  "language_info": {
   "codemirror_mode": {
    "name": "ipython",
    "version": 3
   },
   "file_extension": ".py",
   "mimetype": "text/x-python",
   "name": "python",
   "nbconvert_exporter": "python",
   "pygments_lexer": "ipython3",
   "version": "3.6.10"
  }
 },
 "nbformat": 4,
 "nbformat_minor": 5
}
